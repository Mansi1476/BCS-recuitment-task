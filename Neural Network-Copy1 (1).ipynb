{
 "cells": [
  {
   "cell_type": "code",
   "execution_count": 8,
   "id": "e2b1c137",
   "metadata": {},
   "outputs": [
    {
     "name": "stdout",
     "output_type": "stream",
     "text": [
      "results\n",
      "[[0.0007576504904248173], [0.08223794368786624], [0.08151281764359956], [0.9999944484257345], [0.9999995025373339], [0.9999943946147151], [0.9999417775935977]]\n"
     ]
    }
   ],
   "source": [
    "import numpy as np\n",
    "\n",
    "class Perceptron():\n",
    "    def __init__(self):\n",
    "        self.syn_weights = np.random.rand(4,1)\n",
    "\n",
    "    def sigmoid(self, x):\n",
    "        return (1 / (1 + np.exp(-x)))\n",
    "\n",
    "    def sigmoid_deriv(self, x):\n",
    "        return np.exp(-x)/((1 + np.exp(-x))**2)\n",
    "\n",
    "    def train(self, inputs, real_outputs, its, lr):\n",
    "\n",
    "        delta_weights = np.zeros((4,7))\n",
    "\n",
    "        for iteration in (range(its)):\n",
    "\n",
    "            # forward pass\n",
    "            z = np.dot(inputs, self.syn_weights)\n",
    "            activation = self.sigmoid(z)\n",
    "\n",
    "            # back pass\n",
    "            for i in range(7):\n",
    "                cost = (activation[i] - real_outputs[i])**2\n",
    "                cost_prime = 2*(activation[i] - real_outputs[i])\n",
    "                for n in range(4):\n",
    "                    delta_weights[n][i] = cost_prime * inputs[i][n] * self.sigmoid_deriv(z[i])\n",
    "\n",
    "            delta_avg = np.array([np.average(delta_weights, axis=1)]).T\n",
    "            self.syn_weights = self.syn_weights - delta_avg*lr\n",
    "\n",
    "    def results(self, inputs):\n",
    "        return self.sigmoid(np.dot(inputs, self.syn_weights))\n",
    "\n",
    "\n",
    "if __name__ == \"__main__\":\n",
    "\n",
    "    ts_input = np.array([[0,0,1,0],\n",
    "                         [1,1,1,0],\n",
    "                         [1,0,1,1],\n",
    "                         [0,1,1,1],\n",
    "                         [0,1,0,1],\n",
    "                         [1,1,1,1],\n",
    "                         [0,0,0,0]])\n",
    "\n",
    "    ts_output = np.array([[0,1,1,0,0,1,0]]).T # First Value of Input = output\n",
    "\n",
    "    testing_data = np.array([[0,1,1,0],\n",
    "                             [0,0,0,1],\n",
    "                             [0,1,0,0],\n",
    "                             [1,0,0,1],\n",
    "                             [1,0,0,0],\n",
    "                             [1,1,0,0],\n",
    "                             [1,0,1,0]])\n",
    "\n",
    "    lr = 10 # Learning Rate\n",
    "    steps = 10000\n",
    "    perceptron = Perceptron() # Initialize a perceptron\n",
    "    perceptron.train(ts_input, ts_output, steps, lr) # Train the perceptron\n",
    "\n",
    "    results = []\n",
    "    for x in (range(len(testing_data))):\n",
    "        run = testing_data[x]\n",
    "        trial = perceptron.results(run)\n",
    "        results.append(trial.tolist())\n",
    "    print(\"results\")\n",
    "    print(results)\n",
    "    #print(np.ravel(np.rint(results))) # View rounded results\n",
    "    #print(perceptron.syn_weights)\n"
   ]
  },
  {
   "cell_type": "code",
   "execution_count": null,
   "id": "34b94a44",
   "metadata": {},
   "outputs": [],
   "source": []
  }
 ],
 "metadata": {
  "kernelspec": {
   "display_name": "Python 3 (ipykernel)",
   "language": "python",
   "name": "python3"
  },
  "language_info": {
   "codemirror_mode": {
    "name": "ipython",
    "version": 3
   },
   "file_extension": ".py",
   "mimetype": "text/x-python",
   "name": "python",
   "nbconvert_exporter": "python",
   "pygments_lexer": "ipython3",
   "version": "3.9.12"
  }
 },
 "nbformat": 4,
 "nbformat_minor": 5
}
